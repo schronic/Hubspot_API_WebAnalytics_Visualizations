{
 "cells": [
  {
   "cell_type": "code",
   "execution_count": null,
   "id": "afc17a6a",
   "metadata": {},
   "outputs": [],
   "source": [
    "from hubspot import HubSpot\n",
    "import plotly.express as px\n",
    "\n",
    "\n",
    "\n",
    "access_token=\"HUBSPOT ACCESS TOKEN\"\n",
    "client = HubSpot(access_token=access_token)\n"
   ]
  },
  {
   "cell_type": "code",
   "execution_count": null,
   "id": "fa7b1d0b",
   "metadata": {},
   "outputs": [],
   "source": [
    "from collections.abc import MutableMapping\n",
    "\n",
    "def flatten_dict(d: MutableMapping, parent_key: str = '', sep: str ='.') -> MutableMapping:\n",
    "    items = []\n",
    "    for k, v in d.items():\n",
    "        new_key = parent_key + sep + k if parent_key else k\n",
    "        if isinstance(v, MutableMapping):\n",
    "            items.extend(flatten_dict(v, new_key, sep=sep).items())\n",
    "        else:\n",
    "            items.append((new_key, v))\n",
    "    return dict(items)"
   ]
  },
  {
   "cell_type": "markdown",
   "id": "65162728",
   "metadata": {},
   "source": [
    "# CALLS"
   ]
  },
  {
   "cell_type": "code",
   "execution_count": null,
   "id": "7ef36707",
   "metadata": {},
   "outputs": [],
   "source": [
    "calls_properties = [\"hs_createdate\",\n",
    "\"hs_call_body\",\n",
    "\"hs_call_duration\",\n",
    "\"hs_call_from_number\",\n",
    "\"hs_call_recording_url\",\n",
    "\"hs_call_status\",\n",
    "\"hs_call_title\",\n",
    "\"hs_call_to_number\",\n",
    "\"hs_lastmodifieddate\",\n",
    "\"hs_timestamp\",\n",
    "\"hubspot_owner_id\",\n",
    "\"hs_object_id\",\n",
    "\"hs_call_callee_object_id\",\n",
    "\"hs_call_callee_object_type_id\",\n",
    "\"hs_call_direction\",\n",
    "\"hs_call_disposition\",\n",
    "\"hs_activity_type\",\n",
    "\"hs_attachment_ids\"]\n"
   ]
  },
  {
   "cell_type": "code",
   "execution_count": null,
   "id": "024c7bf1",
   "metadata": {},
   "outputs": [],
   "source": [
    "import hubspot\n",
    "from pprint import pprint\n",
    "from hubspot.crm.objects.calls import ApiException\n",
    "\n",
    "\n",
    "all_calls = []\n",
    "\n",
    "calls_after = None\n",
    "while True: \n",
    "    api_response = client.crm.objects.calls.basic_api.get_page(after = calls_after, limit=100, properties=calls_properties, archived=False)\n",
    "    calls = api_response.to_dict()\n",
    "    if calls['paging']:\n",
    "        calls_after = calls['paging']['next']['after'] \n",
    "    else: \n",
    "        break\n",
    "    calls_results = calls['results']\n",
    "    all_calls.append(calls_results)\n",
    "    \n",
    "    \n",
    "\n"
   ]
  },
  {
   "cell_type": "code",
   "execution_count": null,
   "id": "530a3060",
   "metadata": {},
   "outputs": [],
   "source": [
    "flattend_results = [flatten_dict(item) for l in all_calls for item in l]\n"
   ]
  },
  {
   "cell_type": "code",
   "execution_count": null,
   "id": "b9818fb0",
   "metadata": {},
   "outputs": [],
   "source": [
    "import pandas as pd\n",
    "df = pd.DataFrame(data=flattend_results)"
   ]
  },
  {
   "cell_type": "code",
   "execution_count": null,
   "id": "0f78fae0",
   "metadata": {},
   "outputs": [],
   "source": [
    "df['created_at.date'] = pd.to_datetime(df['created_at']).dt.date\n",
    "df['created_at.time'] = pd.to_datetime(df['created_at']).dt.time\n",
    "\n",
    "df['updated_at.date'] = pd.to_datetime(df['updated_at']).dt.date\n",
    "df['updated_at.time'] = pd.to_datetime(df['updated_at']).dt.time\n",
    "\n",
    "df = df.drop(['created_at', 'updated_at'], axis=1)"
   ]
  },
  {
   "cell_type": "code",
   "execution_count": null,
   "id": "46f44e8f",
   "metadata": {},
   "outputs": [],
   "source": [
    "\n",
    "df.to_excel('calls.xlsx')"
   ]
  },
  {
   "cell_type": "code",
   "execution_count": null,
   "id": "84886af5",
   "metadata": {},
   "outputs": [],
   "source": [
    "df_calls = df.copy()"
   ]
  },
  {
   "cell_type": "code",
   "execution_count": null,
   "id": "acbad2e5",
   "metadata": {},
   "outputs": [],
   "source": [
    "import pandas as pd\n",
    "import gspread\n",
    "import df2gspread as d2g\n",
    "from df2gspread import df2gspread as d2g\n",
    "\n",
    "\n",
    "from oauth2client.service_account import ServiceAccountCredentials\n",
    "\n",
    "\n",
    "scope = ['https://spreadsheets.google.com/feeds',\n",
    "         'https://www.googleapis.com/auth/drive']\n",
    "credentials = ServiceAccountCredentials.from_json_keyfile_name(\n",
    "    'jsonFileFromGoogle.json', scope)\n",
    "gc = gspread.authorize(credentials)\n",
    "\n",
    "\n",
    "\n",
    "spreadsheet_key = '1q5uXXEw4JPWEDgHcW4Bi7G7ryX6T7f6jJLEK378OqOM'\n",
    "wks_name = \"Calls\"\n",
    "d2g.upload(df.reset_index(), spreadsheet_key, wks_name, credentials=credentials, row_names=True)"
   ]
  },
  {
   "cell_type": "code",
   "execution_count": null,
   "id": "b5d1518a",
   "metadata": {},
   "outputs": [],
   "source": [
    "df.dtypes"
   ]
  },
  {
   "cell_type": "markdown",
   "id": "6d3056f0",
   "metadata": {},
   "source": [
    "# COMMUNICATION"
   ]
  },
  {
   "cell_type": "code",
   "execution_count": null,
   "id": "08ba3cec",
   "metadata": {},
   "outputs": [],
   "source": [
    "# Need OAuth "
   ]
  },
  {
   "cell_type": "markdown",
   "id": "d7ed4739",
   "metadata": {},
   "source": [
    "# EMAILS"
   ]
  },
  {
   "cell_type": "code",
   "execution_count": null,
   "id": "1292cd1f",
   "metadata": {},
   "outputs": [],
   "source": [
    "email_properties = [\"hs_createdate\", \n",
    "            \"hs_object_id\"\n",
    "            \"hs_createdate\",\n",
    "            \"hs_email_direction\",\n",
    "            \"hs_email_sender_email\",\n",
    "            \"hs_email_sender_firstname\",\n",
    "            \"hs_email_sender_lastname\",\n",
    "            \"hs_email_status\",\n",
    "            \"hs_email_subject\",\n",
    "            \"hs_email_text\",\n",
    "            \"hs_email_to_email\",\n",
    "            \"hs_email_to_firstname\",\n",
    "            \"hs_email_to_lastname\",\n",
    "            \"hs_lastmodifieddate\",\n",
    "            \"hs_timestamp\",\n",
    "            \"hubspot_owner_id\",\n",
    "            \"hs_email_from\",\n",
    "            \"hs_email_from_firstname\",\n",
    "            \"hs_email_from_lastname\",\n",
    "            \"hs_email_html\",\n",
    "            \"hs_attachment_ids\",\n",
    "            \"hs_email_headers\"]\n",
    "\n",
    "\n"
   ]
  },
  {
   "cell_type": "code",
   "execution_count": null,
   "id": "5693abef",
   "metadata": {
    "scrolled": true
   },
   "outputs": [],
   "source": [
    "\n",
    "from hubspot.crm.objects.emails import ApiException\n",
    "\n",
    "\n",
    "all_emails = []\n",
    "\n",
    "emails_after = None\n",
    "while True: \n",
    "    api_response = client.crm.objects.emails.basic_api.get_page(after = emails_after, limit=100, properties=email_properties, archived=False)\n",
    "    emails = api_response.to_dict()\n",
    "    if emails['paging']:\n",
    "        emails_after = emails['paging']['next']['after'] \n",
    "    else: \n",
    "        break\n",
    "    emails_results = emails['results']\n",
    "    all_emails.append(emails_results)\n"
   ]
  },
  {
   "cell_type": "code",
   "execution_count": null,
   "id": "1336076b",
   "metadata": {},
   "outputs": [],
   "source": [
    "flattend_results = [flatten_dict(item) for l in all_emails for item in l]\n",
    "df_emails = pd.DataFrame(data=flattend_results)"
   ]
  },
  {
   "cell_type": "code",
   "execution_count": null,
   "id": "d4ed7e46",
   "metadata": {},
   "outputs": [],
   "source": [
    "df_emails['created_at.date'] = pd.to_datetime(df_emails['created_at']).dt.date\n",
    "df_emails['created_at.time'] = pd.to_datetime(df_emails['created_at']).dt.time\n",
    "\n",
    "df_emails['updated_at.date'] = pd.to_datetime(df_emails['updated_at']).dt.date\n",
    "df_emails['updated_at.time'] = pd.to_datetime(df_emails['updated_at']).dt.time\n",
    "\n",
    "df_emails = df_emails.drop(['created_at', 'updated_at'], axis=1)\n",
    "\n",
    "df_emails.to_excel('emails.xlsx')"
   ]
  },
  {
   "cell_type": "code",
   "execution_count": null,
   "id": "ad1d73c3",
   "metadata": {},
   "outputs": [],
   "source": [
    "pd.read_excel('emails.xlsx')"
   ]
  },
  {
   "cell_type": "code",
   "execution_count": null,
   "id": "fe69ba5f",
   "metadata": {},
   "outputs": [],
   "source": [
    "df_emails.tail().dtypes"
   ]
  },
  {
   "cell_type": "markdown",
   "id": "58ded3af",
   "metadata": {},
   "source": [
    "# MEETINGS"
   ]
  },
  {
   "cell_type": "code",
   "execution_count": null,
   "id": "7a0426fc",
   "metadata": {},
   "outputs": [],
   "source": [
    "meetings_properties = [\n",
    "    \"hs_createdate\",\n",
    "    \"hs_internal_meeting_notes\",\n",
    "    \"hs_lastmodifieddate\",\n",
    "    \"hs_meeting_body\",\n",
    "    \"hs_meeting_end_time\",\n",
    "    \"hs_meeting_external_url\",\n",
    "    \"hs_meeting_location\",\n",
    "    \"hs_meeting_outcome\",\n",
    "    \"hs_meeting_start_time\",\n",
    "    \"hs_meeting_title\",\n",
    "    \"hs_timestamp\",\n",
    "    \"hubspot_owner_id\",\n",
    "    \"hs_object_id\",\n",
    "    \"hs_activity_type\",\n",
    "    \"hs_attachment_ids\"\n",
    "]"
   ]
  },
  {
   "cell_type": "code",
   "execution_count": null,
   "id": "3f5eca49",
   "metadata": {},
   "outputs": [],
   "source": [
    "\n",
    "all_meet = []\n",
    "\n",
    "meet_after = None\n",
    "while True: \n",
    "    api_response = client.crm.objects.meetings.basic_api.get_page(after = meet_after, limit=100, properties=meetings_properties, archived=False)\n",
    "    meet = api_response.to_dict()\n",
    "    if meet['paging']:\n",
    "        meet_after = meet['paging']['next']['after'] \n",
    "    else: \n",
    "        break\n",
    "    meet_results = meet['results']\n",
    "    all_meet.append(meet_results)\n",
    "    \n",
    "    "
   ]
  },
  {
   "cell_type": "markdown",
   "id": "c9855e07",
   "metadata": {},
   "source": [
    "# NOTES"
   ]
  },
  {
   "cell_type": "code",
   "execution_count": null,
   "id": "1cc8c217",
   "metadata": {},
   "outputs": [],
   "source": []
  },
  {
   "cell_type": "markdown",
   "id": "79cfc447",
   "metadata": {},
   "source": [
    "# POSTAL MAILS"
   ]
  },
  {
   "cell_type": "code",
   "execution_count": null,
   "id": "2aa91e4d",
   "metadata": {},
   "outputs": [],
   "source": []
  },
  {
   "cell_type": "markdown",
   "id": "edf50901",
   "metadata": {},
   "source": [
    "# TASKS"
   ]
  },
  {
   "cell_type": "code",
   "execution_count": null,
   "id": "9b64fff6",
   "metadata": {},
   "outputs": [],
   "source": []
  },
  {
   "cell_type": "markdown",
   "id": "d9688739",
   "metadata": {},
   "source": [
    "# Analytics"
   ]
  },
  {
   "cell_type": "code",
   "execution_count": null,
   "id": "1f224964",
   "metadata": {},
   "outputs": [],
   "source": [
    "all_contact = []\n",
    "\n",
    "contact_after = None\n",
    "while True: \n",
    "    api_response = client.crm.contacts.basic_api.get_page(after=contact_after, limit=100, archived=False)\n",
    "    contact = api_response.to_dict()\n",
    "    if contact['paging']:\n",
    "        contact_after = contact['paging']['next']['after'] \n",
    "    else: \n",
    "        break\n",
    "    contact_results = contact['results']\n",
    "    all_contact.append(contact_results)"
   ]
  },
  {
   "cell_type": "code",
   "execution_count": null,
   "id": "1a507811",
   "metadata": {},
   "outputs": [],
   "source": [
    "import pandas as pd\n",
    "flattend_results = [flatten_dict(item) for l in all_contact for item in l]\n",
    "df_contacts = pd.DataFrame(data=flattend_results)\n",
    "\n",
    "df_contacts['created_at.date'] = pd.to_datetime(df_contacts['created_at']).dt.date\n",
    "df_contacts['created_at.time'] = pd.to_datetime(df_contacts['created_at']).dt.time\n",
    "\n",
    "df_contacts['updated_at.date'] = pd.to_datetime(df_contacts['updated_at']).dt.date\n",
    "df_contacts['updated_at.time'] = pd.to_datetime(df_contacts['updated_at']).dt.time\n",
    "\n",
    "df_contacts = df_contacts.drop(['created_at', 'updated_at'], axis=1)\n",
    "\n",
    "df_contacts.to_excel('contacts.xlsx')\n"
   ]
  },
  {
   "cell_type": "code",
   "execution_count": null,
   "id": "c4f8b3d7",
   "metadata": {},
   "outputs": [],
   "source": [
    "dfc_extract = df_contacts"
   ]
  },
  {
   "cell_type": "code",
   "execution_count": null,
   "id": "a1d80b57",
   "metadata": {},
   "outputs": [],
   "source": [
    "import hubspot\n",
    "from pprint import pprint\n",
    "from hubspot.crm.properties import ApiException\n",
    "\n",
    "client = hubspot.Client.create(access_token=access_token)\n",
    "all_engagement = []\n",
    "engagement_after = None\n",
    "\n",
    "for i in dfc_extract.id.values:\n",
    "    while True:\n",
    "        api_response = client.events.events_api.get_page(after=engagement_after, limit= 100, object_type=\"contact\", object_id=i)\n",
    "        engagement = api_response.to_dict()\n",
    "        engagement_results = engagement['results']\n",
    "        all_engagement.append(engagement_results)\n",
    "        \n",
    "        if engagement['paging']:\n",
    "            engagement_after = engagement['paging']['next']['after'] \n",
    "        else:\n",
    "            break\n",
    "        \n"
   ]
  },
  {
   "cell_type": "code",
   "execution_count": null,
   "id": "eac283bf",
   "metadata": {},
   "outputs": [],
   "source": [
    "client.events.events_api.get_page(after=engagement_after, limit= 100, object_type=\"contact\", object_id=3690320)\n"
   ]
  },
  {
   "cell_type": "code",
   "execution_count": null,
   "id": "32534433",
   "metadata": {
    "scrolled": false
   },
   "outputs": [],
   "source": [
    "import pandas as pd\n",
    "flattend_results = [flatten_dict(item) for l in all_engagement for item in l]\n",
    "\n",
    "df_engagement = pd.DataFrame(data=flattend_results)\n",
    "\n",
    "df_engagement['occurred_at.date'] = pd.to_datetime(df_engagement['occurred_at']).dt.date\n",
    "df_engagement['occurred_at.time'] = pd.to_datetime(df_engagement['occurred_at']).dt.time\n",
    "\n",
    "df_engagement = df_engagement.drop(['occurred_at'], axis=1)\n",
    "\n",
    "df_engagement.to_excel('engagement.xlsx')"
   ]
  },
  {
   "cell_type": "markdown",
   "id": "8c0b6477",
   "metadata": {},
   "source": [
    "# Visualizations\n"
   ]
  },
  {
   "cell_type": "code",
   "execution_count": null,
   "id": "67c6bd79",
   "metadata": {},
   "outputs": [],
   "source": [
    "engagement_ids = len(df_engagement['object_id'].unique())\n",
    "\n",
    "total_ids = len(dfc_extract['id'].unique()) - engagement_ids\n",
    "\n",
    "data = {'Total': ['Not Engaged', 'Engaged'], 'Ids': [total_ids, engagement_ids]}\n",
    "\n",
    "df2 = pd.DataFrame(data=data)\n",
    "fig = px.pie(df2, values='Ids', names='Total', title='Numbers of contacts that engaged')\n",
    "fig.update_traces(textinfo='value')\n",
    "fig.show()"
   ]
  },
  {
   "cell_type": "code",
   "execution_count": null,
   "id": "d9f1a33f",
   "metadata": {},
   "outputs": [],
   "source": [
    "df_count = df_engagement['properties.hs_base_url'].value_counts().rename_axis('Base URLs').reset_index(name='counts')\n",
    "fig = px.bar(df_count, x='Base URLs', y='counts')\n",
    "fig.show()"
   ]
  },
  {
   "cell_type": "code",
   "execution_count": null,
   "id": "a539c22b",
   "metadata": {},
   "outputs": [],
   "source": [
    "df_count = df_engagement['properties.hs_page_title'].value_counts().rename_axis('Page Title').reset_index(name='counts')\n",
    "fig = px.bar(df_count, x='Page Title', y='counts')\n",
    "fig.show()"
   ]
  },
  {
   "cell_type": "code",
   "execution_count": null,
   "id": "92044ff4",
   "metadata": {},
   "outputs": [],
   "source": [
    "import numpy as np\n",
    "def referrer_url(row):\n",
    "    if row['properties.hs_referrer']  is np.nan:\n",
    "        return row['properties.hs_referrer']\n",
    "    \n",
    "    test_list = ['lnkd', 'linkedin']\n",
    "    if any(ele in row['properties.hs_referrer'] for ele in test_list):\n",
    "        return 'LinkedIn'\n",
    "    \n",
    "    if 'capterra' in row['properties.hs_referrer']:\n",
    "        return 'Capterra'\n",
    "    \n",
    "    return row['properties.hs_referrer']\n",
    "    \n",
    "    \n",
    "df_engagement['properties.hs_referrer.base'] = df_engagement.apply(referrer_url, axis=1)\n",
    "\n",
    "df_count = df_engagement['properties.hs_referrer.base'].value_counts().rename_axis('Page Type').reset_index(name='Count')\n",
    "fig = px.pie(df_count, values='Count', names='Page Type', title='Number of engagements by referrer page')\n",
    "fig.update_traces(textinfo='value')\n",
    "fig.show()"
   ]
  },
  {
   "cell_type": "code",
   "execution_count": null,
   "id": "014f01ca",
   "metadata": {},
   "outputs": [],
   "source": [
    "df_count = df_engagement['properties.hs_content_type'].value_counts().rename_axis('Page Type').reset_index(name='Count')\n",
    "fig = px.pie(df_count, values='Count', names='Page Type', title='Number of engagements by Page Type')\n",
    "fig.update_traces(textinfo='value')\n",
    "fig.show()"
   ]
  },
  {
   "cell_type": "code",
   "execution_count": null,
   "id": "1d0d7548",
   "metadata": {},
   "outputs": [],
   "source": [
    "df_count = df_engagement['properties.hs_browser'].value_counts().rename_axis('Browser').reset_index(name='Count')\n",
    "fig = px.pie(df_count, values='Count', names='Browser', title='Numbers of engagements by Browser')\n",
    "fig.update_traces(textinfo='value')\n",
    "fig.show()"
   ]
  },
  {
   "cell_type": "code",
   "execution_count": null,
   "id": "2539bcce",
   "metadata": {
    "scrolled": true
   },
   "outputs": [],
   "source": [
    "df_engagement.event_type.value_counts().rename_axis('unique_values').reset_index(name='counts')"
   ]
  },
  {
   "cell_type": "code",
   "execution_count": null,
   "id": "cb7b07a7",
   "metadata": {},
   "outputs": [],
   "source": [
    "df_engagement['properties.hs_city'].value_counts()"
   ]
  },
  {
   "cell_type": "code",
   "execution_count": null,
   "id": "6005eff4",
   "metadata": {},
   "outputs": [],
   "source": [
    "import re\n",
    "def operating_system(row):\n",
    "    if row['properties.hs_user_agent'] == 'Default-Submission':\n",
    "        return row['properties.hs_user_agent']\n",
    "    else:\n",
    "        return re.search('\\((\\w+)', row['properties.hs_user_agent']).group(1)\n",
    "    \n",
    "    \n",
    "df_engagement['properties.hs_user_agent.os'] = df_engagement.apply(operating_system, axis=1)\n",
    "\n",
    "\n",
    "df_count = df_engagement.groupby(['properties.hs_user_agent.os'])['properties.hs_user_agent.os'].count().reset_index(name='values')\n",
    "fig = px.pie(df_count, values='values', names='properties.hs_user_agent.os', title='Number of engagements by User Agent')\n",
    "fig.update_traces(textinfo='value')\n",
    "fig.show()"
   ]
  },
  {
   "cell_type": "code",
   "execution_count": null,
   "id": "f3ae18b5",
   "metadata": {},
   "outputs": [],
   "source": [
    "df_count = df_engagement['properties.hs_operating_system'].value_counts().rename_axis('Page Type').reset_index(name='Count')\n",
    "fig = px.pie(df_count, values='Count', names='Page Type', title='Numbers of engagements by Browser')\n",
    "fig.update_traces(textinfo='value')\n",
    "fig.show()"
   ]
  },
  {
   "cell_type": "code",
   "execution_count": null,
   "id": "c716e48a",
   "metadata": {},
   "outputs": [],
   "source": [
    "\n",
    "df_count = df_engagement.groupby(['object_id'])['object_id'].count().reset_index(name='values')\n",
    "df_count.loc[df_count['values'] < 3, 'object_id'] = 'Less than three'\n",
    "fig = px.pie(df_count, values='values', names='object_id', title='Numbers of engagements last 1000 contacts')\n",
    "fig.update_traces(textinfo='value')\n",
    "fig.show()"
   ]
  },
  {
   "cell_type": "code",
   "execution_count": null,
   "id": "0730905c",
   "metadata": {},
   "outputs": [],
   "source": [
    "df_contacts.loc[df_contacts['id'] == '4684470']"
   ]
  },
  {
   "cell_type": "code",
   "execution_count": null,
   "id": "374be843",
   "metadata": {},
   "outputs": [],
   "source": [
    "\n",
    "df_count = df_engagement.groupby(['properties.hs_country'])['properties.hs_country'].count().reset_index(name='values')\n",
    "fig = px.pie(df_count, values='values', names='properties.hs_country', title='Engagements by country')\n",
    "fig.update_traces(textinfo='value')\n",
    "fig.show()"
   ]
  },
  {
   "cell_type": "code",
   "execution_count": null,
   "id": "512fab09",
   "metadata": {},
   "outputs": [],
   "source": [
    "french_ids = df_engagement.loc[df_engagement['properties.hs_country'] == 'fr', 'object_id'].values\n",
    "df_contacts.loc[df_contacts['id'].isin(french_ids)]"
   ]
  },
  {
   "cell_type": "code",
   "execution_count": null,
   "id": "86d4e12f",
   "metadata": {},
   "outputs": [],
   "source": [
    "df_engagement['properties.hs_country']\n",
    "\n",
    "\n",
    "df_count = df_engagement.groupby(['properties.hs_country', 'object_id'])['properties.hs_country'].count().reset_index(name='values')\n",
    "#df_count.loc[df_count['values'] < 3, 'properties.hs_country'] = 'Less than three'\n",
    "fig = px.pie(df_count, values='values', names='properties.hs_country', title='Engagements by country')\n",
    "fig.show()"
   ]
  },
  {
   "cell_type": "code",
   "execution_count": null,
   "id": "bd2566e4",
   "metadata": {},
   "outputs": [],
   "source": [
    "df_count = df_engagement.groupby(['properties.hs_country'])['object_id'].nunique().reset_index(name='values')\n",
    "fig = px.pie(df_count, values='values', names='properties.hs_country', title='Contacts by country')\n",
    "fig.show()"
   ]
  },
  {
   "cell_type": "code",
   "execution_count": null,
   "id": "37f0a4e0",
   "metadata": {},
   "outputs": [],
   "source": [
    "import datetime\n",
    "\n",
    "\n",
    "def occured_weekday(row):\n",
    "    x_date = row['occurred_at.date']\n",
    "    no = x_date.weekday()\n",
    "    days = ['Mon', 'Tue', 'Wed', 'Thu', 'Fri', 'Sat', 'Sun']\n",
    "    return days[no]\n",
    "\n",
    "\n",
    "df_engagement['weekday'] = df_engagement.apply(occured_weekday, axis=1)\n",
    "\n",
    "df_count = df_engagement.groupby(['weekday'])['weekday'].count().reset_index(name='values')\n",
    "custom_dict = {'Mon': 0, 'Tue': 1, 'Wed': 2, 'Thu': 3, 'Fri': 4, 'Sat': 5, 'Sun':6} \n",
    "df_count = df_count.sort_values(by=['weekday'], key=lambda x: x.map(custom_dict))\n",
    "\n",
    "\n",
    "fig = px.bar(df_count, x='weekday', y='values')\n",
    "fig.show()\n",
    "\n"
   ]
  },
  {
   "cell_type": "code",
   "execution_count": null,
   "id": "114e7cc0",
   "metadata": {
    "scrolled": false
   },
   "outputs": [],
   "source": [
    "df_count = df_engagement['occurred_at.time'].dt.hour.value_counts().rename_axis('Hour').reset_index(name='Count')\n",
    "\n",
    "\n",
    "\n",
    "\n",
    "custom_dict = {'0': 0, '1': 1, '2': 2, '3': 3, '4': 4, '5': 5, '6': 6, '7': 7, '8': 8, '9': 9, '10': 10, '11': 11, '12': 12, '13': 13, '14': 14, '15': 15, '16': 16, '17': 17, '18': 18, '19': 19, '20': 20, '21': 21, '22': 22, '23': 23}\n",
    "\n",
    "df_count = df_count.sort_values(by=['Hour'], key=lambda x: x.map(custom_dict))\n",
    "\n",
    "\n",
    "fig = px.bar(df_count, x='Hour', y='Count')\n",
    "fig.show()\n",
    "\n"
   ]
  },
  {
   "cell_type": "code",
   "execution_count": null,
   "id": "2f7b0243",
   "metadata": {},
   "outputs": [],
   "source": [
    "# Calculating Timedelta\n",
    "\n",
    "delta = []\n",
    "\n",
    "df_engagement = df_engagement.sort_values(['object_id', 'occurred_at.date'], ascending = [True, True])\n",
    "\n",
    "for i in df_engagement['object_id'].unique():\n",
    "    delta.append(-1)\n",
    "    dfx = df_engagement.loc[df_engagement['object_id'] == i]\n",
    "    \n",
    "    if dfx.shape[0] > 1:\n",
    "        l = dfx['occurred_at.date'].values\n",
    "\n",
    "        for i, v in enumerate(l):\n",
    "            try:\n",
    "                x = l[i+1] - v\n",
    "                days = x.astype('timedelta64[D]')\n",
    "                d = days / np.timedelta64(1, 'D')\n",
    "                delta.append(int(d))\n",
    "            except:\n",
    "                pass\n",
    "\n",
    "df_engagement['TimeDelta'] = delta\n"
   ]
  },
  {
   "cell_type": "code",
   "execution_count": null,
   "id": "2f3c1ffb",
   "metadata": {
    "scrolled": false
   },
   "outputs": [],
   "source": [
    "# Average delta per user\n",
    "\n",
    "df_count = df_engagement.loc[df_engagement['TimeDelta'] != -1].groupby(['object_id'])['TimeDelta'].agg(['sum','count'])\n",
    "df_count['count'] += 1\n",
    "df_count['Avg. Delta'] = round(df_count['sum'] / df_count['count'], 0)\n",
    "\n",
    "df_count = df_count['Avg. Delta'].value_counts().rename_axis('Avg. Delta').reset_index(name='Count')\n",
    "fig = px.bar(df_count, y='Count', x='Avg. Delta', title='Average number of days between engagements by users')\n",
    "fig.show()\n"
   ]
  },
  {
   "cell_type": "code",
   "execution_count": null,
   "id": "17bd0939",
   "metadata": {},
   "outputs": [],
   "source": [
    "# Delta Count Overall\n",
    "\n",
    "df_count = df_engagement.loc[df_engagement['TimeDelta'] != -1]\n",
    "df_count = df_count['TimeDelta'].value_counts().rename_axis('TimeDelta').reset_index(name='Count')\n",
    "fig = px.bar(df_count, y='Count', x='TimeDelta', title='Number of days between engagements')\n",
    "fig.show()\n"
   ]
  },
  {
   "cell_type": "code",
   "execution_count": null,
   "id": "7a40a30f",
   "metadata": {},
   "outputs": [],
   "source": []
  },
  {
   "cell_type": "code",
   "execution_count": null,
   "id": "277edabf",
   "metadata": {},
   "outputs": [],
   "source": []
  }
 ],
 "metadata": {
  "kernelspec": {
   "display_name": "Python 3 (ipykernel)",
   "language": "python",
   "name": "python3"
  },
  "language_info": {
   "codemirror_mode": {
    "name": "ipython",
    "version": 3
   },
   "file_extension": ".py",
   "mimetype": "text/x-python",
   "name": "python",
   "nbconvert_exporter": "python",
   "pygments_lexer": "ipython3",
   "version": "3.8.9"
  }
 },
 "nbformat": 4,
 "nbformat_minor": 5
}
